{
 "cells": [
  {
   "cell_type": "markdown",
   "metadata": {},
   "source": [
    "# Reading the data and turning into a Dataframes"
   ]
  },
  {
   "cell_type": "markdown",
   "metadata": {},
   "source": [
    "From the yelp dataset, the business and restaurants json files contain the data of intrest. "
   ]
  },
  {
   "cell_type": "code",
   "execution_count": 1,
   "metadata": {},
   "outputs": [],
   "source": [
    "import os # Miscellaneous operating system interfaces, used for finding path of files\n",
    "import pandas as pd # for data manipulation and analysis."
   ]
  },
  {
   "cell_type": "markdown",
   "metadata": {},
   "source": [
    "## Read the business.json"
   ]
  },
  {
   "cell_type": "code",
   "execution_count": 2,
   "metadata": {},
   "outputs": [],
   "source": [
    "path= os.path.abspath(\"business.json\")\n",
    "business = pd.read_json (path,lines=True)"
   ]
  },
  {
   "cell_type": "markdown",
   "metadata": {},
   "source": [
    "Keep only businesses with 'Restaurants' in their category and 'Toronto' in city\n",
    "Keep only 'business_id' and 'categories' columns"
   ]
  },
  {
   "cell_type": "code",
   "execution_count": 4,
   "metadata": {},
   "outputs": [
    {
     "data": {
      "text/html": [
       "<div>\n",
       "<style scoped>\n",
       "    .dataframe tbody tr th:only-of-type {\n",
       "        vertical-align: middle;\n",
       "    }\n",
       "\n",
       "    .dataframe tbody tr th {\n",
       "        vertical-align: top;\n",
       "    }\n",
       "\n",
       "    .dataframe thead th {\n",
       "        text-align: right;\n",
       "    }\n",
       "</style>\n",
       "<table border=\"1\" class=\"dataframe\">\n",
       "  <thead>\n",
       "    <tr style=\"text-align: right;\">\n",
       "      <th></th>\n",
       "      <th>business_id</th>\n",
       "      <th>categories</th>\n",
       "    </tr>\n",
       "  </thead>\n",
       "  <tbody>\n",
       "    <tr>\n",
       "      <th>29</th>\n",
       "      <td>NDuUMJfrWk52RA-H-OtrpA</td>\n",
       "      <td>Juice Bars &amp; Smoothies, Food, Restaurants, Fas...</td>\n",
       "    </tr>\n",
       "    <tr>\n",
       "      <th>32</th>\n",
       "      <td>SP_YXIEwkFPPl_9anCYmpQ</td>\n",
       "      <td>Restaurants, Nightlife, Breakfast &amp; Brunch, Ve...</td>\n",
       "    </tr>\n",
       "    <tr>\n",
       "      <th>50</th>\n",
       "      <td>mlHC2XcU9Bows6cnYEmRgg</td>\n",
       "      <td>Restaurants, Breakfast &amp; Brunch, Bars, Modern ...</td>\n",
       "    </tr>\n",
       "    <tr>\n",
       "      <th>83</th>\n",
       "      <td>RFbMVekR8lU9tPJ8sWrwHg</td>\n",
       "      <td>Italian, Restaurants</td>\n",
       "    </tr>\n",
       "    <tr>\n",
       "      <th>96</th>\n",
       "      <td>NPHZkn1e-tSJAbo8Zm9rYw</td>\n",
       "      <td>Tex-Mex, Mexican, Restaurants</td>\n",
       "    </tr>\n",
       "  </tbody>\n",
       "</table>\n",
       "</div>"
      ],
      "text/plain": [
       "               business_id                                         categories\n",
       "29  NDuUMJfrWk52RA-H-OtrpA  Juice Bars & Smoothies, Food, Restaurants, Fas...\n",
       "32  SP_YXIEwkFPPl_9anCYmpQ  Restaurants, Nightlife, Breakfast & Brunch, Ve...\n",
       "50  mlHC2XcU9Bows6cnYEmRgg  Restaurants, Breakfast & Brunch, Bars, Modern ...\n",
       "83  RFbMVekR8lU9tPJ8sWrwHg                               Italian, Restaurants\n",
       "96  NPHZkn1e-tSJAbo8Zm9rYw                      Tex-Mex, Mexican, Restaurants"
      ]
     },
     "execution_count": 4,
     "metadata": {},
     "output_type": "execute_result"
    }
   ],
   "source": [
    "restaurants= business[business['categories'].str.contains('Restaurants',case=False,na=False)]\n",
    "restaurants= restaurants[restaurants['city'].str.contains('Toronto',case=False,na=False)]\n",
    "restaurants=restaurants[['business_id','categories']]\n",
    "restaurants.head()"
   ]
  },
  {
   "cell_type": "markdown",
   "metadata": {},
   "source": [
    "Read the review json in chucks, otherwise memory error\n",
    "and merge the reviews with the restaurants defined above\n"
   ]
  },
  {
   "cell_type": "code",
   "execution_count": 5,
   "metadata": {},
   "outputs": [
    {
     "data": {
      "text/html": [
       "<div>\n",
       "<style scoped>\n",
       "    .dataframe tbody tr th:only-of-type {\n",
       "        vertical-align: middle;\n",
       "    }\n",
       "\n",
       "    .dataframe tbody tr th {\n",
       "        vertical-align: top;\n",
       "    }\n",
       "\n",
       "    .dataframe thead th {\n",
       "        text-align: right;\n",
       "    }\n",
       "</style>\n",
       "<table border=\"1\" class=\"dataframe\">\n",
       "  <thead>\n",
       "    <tr style=\"text-align: right;\">\n",
       "      <th></th>\n",
       "      <th>business_id</th>\n",
       "      <th>categories</th>\n",
       "      <th>user_id</th>\n",
       "      <th>review_stars</th>\n",
       "      <th>text</th>\n",
       "      <th>date</th>\n",
       "    </tr>\n",
       "  </thead>\n",
       "  <tbody>\n",
       "    <tr>\n",
       "      <th>0</th>\n",
       "      <td>NDuUMJfrWk52RA-H-OtrpA</td>\n",
       "      <td>Juice Bars &amp; Smoothies, Food, Restaurants, Fas...</td>\n",
       "      <td>fd25NWbvLdNFJV_MoAljIg</td>\n",
       "      <td>4</td>\n",
       "      <td>Pretty solid vegan spot. Had a rice bowl there...</td>\n",
       "      <td>2017-10-11 00:28:10</td>\n",
       "    </tr>\n",
       "    <tr>\n",
       "      <th>1</th>\n",
       "      <td>NDuUMJfrWk52RA-H-OtrpA</td>\n",
       "      <td>Juice Bars &amp; Smoothies, Food, Restaurants, Fas...</td>\n",
       "      <td>AyxTBqPJjYqlY55vfNfB2Q</td>\n",
       "      <td>5</td>\n",
       "      <td>What a great spot for a delicious, healthy lun...</td>\n",
       "      <td>2015-01-19 01:40:08</td>\n",
       "    </tr>\n",
       "    <tr>\n",
       "      <th>2</th>\n",
       "      <td>NDuUMJfrWk52RA-H-OtrpA</td>\n",
       "      <td>Juice Bars &amp; Smoothies, Food, Restaurants, Fas...</td>\n",
       "      <td>-KvhDluq5GhtiafY4xK2Sw</td>\n",
       "      <td>2</td>\n",
       "      <td>I really do love Bolt Fresh Bar. I've gone the...</td>\n",
       "      <td>2018-05-30 14:04:50</td>\n",
       "    </tr>\n",
       "    <tr>\n",
       "      <th>3</th>\n",
       "      <td>NDuUMJfrWk52RA-H-OtrpA</td>\n",
       "      <td>Juice Bars &amp; Smoothies, Food, Restaurants, Fas...</td>\n",
       "      <td>75DUiVsWkGZRW--zySVORA</td>\n",
       "      <td>4</td>\n",
       "      <td>The vibe: Clean, bright vegetarian take out!\\n...</td>\n",
       "      <td>2014-02-25 19:39:12</td>\n",
       "    </tr>\n",
       "    <tr>\n",
       "      <th>4</th>\n",
       "      <td>NDuUMJfrWk52RA-H-OtrpA</td>\n",
       "      <td>Juice Bars &amp; Smoothies, Food, Restaurants, Fas...</td>\n",
       "      <td>z23KjDT_pUtORz4ptHnUAg</td>\n",
       "      <td>2</td>\n",
       "      <td>I went here once to get the protein bowl and i...</td>\n",
       "      <td>2017-05-27 00:14:14</td>\n",
       "    </tr>\n",
       "  </tbody>\n",
       "</table>\n",
       "</div>"
      ],
      "text/plain": [
       "              business_id                                         categories  \\\n",
       "0  NDuUMJfrWk52RA-H-OtrpA  Juice Bars & Smoothies, Food, Restaurants, Fas...   \n",
       "1  NDuUMJfrWk52RA-H-OtrpA  Juice Bars & Smoothies, Food, Restaurants, Fas...   \n",
       "2  NDuUMJfrWk52RA-H-OtrpA  Juice Bars & Smoothies, Food, Restaurants, Fas...   \n",
       "3  NDuUMJfrWk52RA-H-OtrpA  Juice Bars & Smoothies, Food, Restaurants, Fas...   \n",
       "4  NDuUMJfrWk52RA-H-OtrpA  Juice Bars & Smoothies, Food, Restaurants, Fas...   \n",
       "\n",
       "                  user_id  review_stars  \\\n",
       "0  fd25NWbvLdNFJV_MoAljIg             4   \n",
       "1  AyxTBqPJjYqlY55vfNfB2Q             5   \n",
       "2  -KvhDluq5GhtiafY4xK2Sw             2   \n",
       "3  75DUiVsWkGZRW--zySVORA             4   \n",
       "4  z23KjDT_pUtORz4ptHnUAg             2   \n",
       "\n",
       "                                                text                date  \n",
       "0  Pretty solid vegan spot. Had a rice bowl there... 2017-10-11 00:28:10  \n",
       "1  What a great spot for a delicious, healthy lun... 2015-01-19 01:40:08  \n",
       "2  I really do love Bolt Fresh Bar. I've gone the... 2018-05-30 14:04:50  \n",
       "3  The vibe: Clean, bright vegetarian take out!\\n... 2014-02-25 19:39:12  \n",
       "4  I went here once to get the protein bowl and i... 2017-05-27 00:14:14  "
      ]
     },
     "execution_count": 5,
     "metadata": {},
     "output_type": "execute_result"
    }
   ],
   "source": [
    "path= os.path.abspath(\"review.json\")\n",
    "size=100000\n",
    "review = pd.read_json (path,lines=True,chunksize=size)\n",
    "chunk_list = []\n",
    "for chunk_review in review:\n",
    "    chunk_review = chunk_review.drop(['review_id','useful','funny','cool'], axis=1)\n",
    "    chunk_review = chunk_review.rename(columns={'stars': 'review_stars'})\n",
    "    chunk_merged = pd.merge(restaurants, chunk_review, on='business_id', how='inner')\n",
    "    chunk_list.append(chunk_merged)\n",
    "    \n",
    "df = pd.concat(chunk_list, ignore_index=True, join='outer', axis=0)\n",
    "df.head()"
   ]
  },
  {
   "cell_type": "markdown",
   "metadata": {},
   "source": [
    "save the dataframes for easy access later"
   ]
  },
  {
   "cell_type": "code",
   "execution_count": 6,
   "metadata": {},
   "outputs": [],
   "source": [
    "df.to_pickle('resturantreviews')\n",
    "restaurants.to_pickle('restaurants')"
   ]
  },
  {
   "cell_type": "markdown",
   "metadata": {},
   "source": [
    "# Exploritory Analysis"
   ]
  },
  {
   "cell_type": "code",
   "execution_count": 2,
   "metadata": {},
   "outputs": [],
   "source": [
    "import matplotlib.pyplot as plt\n",
    "import pandas as pd \n",
    "import numpy as np"
   ]
  },
  {
   "cell_type": "code",
   "execution_count": 3,
   "metadata": {},
   "outputs": [],
   "source": [
    "reviews = pd.read_pickle('C:/Users/frede/.spyder-py3/py dir/Capstone/resturantreviews')      \n",
    "restaurants = pd.read_pickle('C:/Users/frede/.spyder-py3/py dir/Capstone/restaurants')"
   ]
  },
  {
   "cell_type": "markdown",
   "metadata": {},
   "source": [
    "### Exploring the Category of a review"
   ]
  },
  {
   "cell_type": "code",
   "execution_count": 9,
   "metadata": {},
   "outputs": [
    {
     "name": "stdout",
     "output_type": "stream",
     "text": [
      "There are 366 categories with 95 used only once.\n",
      "only the top few categories are useful for grouping the restaurants due to the few examples in less popular categories.\n",
      "\n"
     ]
    },
    {
     "name": "stderr",
     "output_type": "stream",
     "text": [
      "C:\\Users\\frede\\Anaconda3\\lib\\site-packages\\pandas\\core\\indexing.py:965: SettingWithCopyWarning: \n",
      "A value is trying to be set on a copy of a slice from a DataFrame.\n",
      "Try using .loc[row_indexer,col_indexer] = value instead\n",
      "\n",
      "See the caveats in the documentation: https://pandas.pydata.org/pandas-docs/stable/user_guide/indexing.html#returning-a-view-versus-a-copy\n",
      "  self.obj[item] = s\n"
     ]
    },
    {
     "name": "stdout",
     "output_type": "stream",
     "text": [
      "Top 10 most frequent Categories out of 7967 Restaurants\n"
     ]
    },
    {
     "data": {
      "text/html": [
       "<div>\n",
       "<style scoped>\n",
       "    .dataframe tbody tr th:only-of-type {\n",
       "        vertical-align: middle;\n",
       "    }\n",
       "\n",
       "    .dataframe tbody tr th {\n",
       "        vertical-align: top;\n",
       "    }\n",
       "\n",
       "    .dataframe thead th {\n",
       "        text-align: right;\n",
       "    }\n",
       "</style>\n",
       "<table border=\"1\" class=\"dataframe\">\n",
       "  <thead>\n",
       "    <tr style=\"text-align: right;\">\n",
       "      <th></th>\n",
       "      <th>category</th>\n",
       "      <th>count</th>\n",
       "      <th>average_stars</th>\n",
       "    </tr>\n",
       "  </thead>\n",
       "  <tbody>\n",
       "    <tr>\n",
       "      <th>0</th>\n",
       "      <td>Food</td>\n",
       "      <td>2057</td>\n",
       "      <td>3.650492</td>\n",
       "    </tr>\n",
       "    <tr>\n",
       "      <th>1</th>\n",
       "      <td>Nightlife</td>\n",
       "      <td>1111</td>\n",
       "      <td>3.566375</td>\n",
       "    </tr>\n",
       "    <tr>\n",
       "      <th>2</th>\n",
       "      <td>Bars</td>\n",
       "      <td>1063</td>\n",
       "      <td>3.581973</td>\n",
       "    </tr>\n",
       "    <tr>\n",
       "      <th>3</th>\n",
       "      <td>Sandwiches</td>\n",
       "      <td>705</td>\n",
       "      <td>3.730448</td>\n",
       "    </tr>\n",
       "    <tr>\n",
       "      <th>4</th>\n",
       "      <td>Breakfast &amp; Brunch</td>\n",
       "      <td>700</td>\n",
       "      <td>3.633698</td>\n",
       "    </tr>\n",
       "    <tr>\n",
       "      <th>5</th>\n",
       "      <td>Canadian</td>\n",
       "      <td>695</td>\n",
       "      <td>3.588449</td>\n",
       "    </tr>\n",
       "    <tr>\n",
       "      <th>6</th>\n",
       "      <td>Cafes</td>\n",
       "      <td>680</td>\n",
       "      <td>3.770053</td>\n",
       "    </tr>\n",
       "    <tr>\n",
       "      <th>7</th>\n",
       "      <td>Chinese</td>\n",
       "      <td>652</td>\n",
       "      <td>3.420741</td>\n",
       "    </tr>\n",
       "    <tr>\n",
       "      <th>8</th>\n",
       "      <td>Coffee &amp; Tea</td>\n",
       "      <td>632</td>\n",
       "      <td>3.767088</td>\n",
       "    </tr>\n",
       "    <tr>\n",
       "      <th>9</th>\n",
       "      <td>Italian</td>\n",
       "      <td>631</td>\n",
       "      <td>3.622945</td>\n",
       "    </tr>\n",
       "  </tbody>\n",
       "</table>\n",
       "</div>"
      ],
      "text/plain": [
       "             category  count  average_stars\n",
       "0                Food   2057       3.650492\n",
       "1           Nightlife   1111       3.566375\n",
       "2                Bars   1063       3.581973\n",
       "3          Sandwiches    705       3.730448\n",
       "4  Breakfast & Brunch    700       3.633698\n",
       "5            Canadian    695       3.588449\n",
       "6               Cafes    680       3.770053\n",
       "7             Chinese    652       3.420741\n",
       "8        Coffee & Tea    632       3.767088\n",
       "9             Italian    631       3.622945"
      ]
     },
     "execution_count": 9,
     "metadata": {},
     "output_type": "execute_result"
    }
   ],
   "source": [
    "categoryfreq={}\n",
    "for item in restaurants['categories']:\n",
    "    for word in item.split(\", \"):\n",
    "        if word not in categoryfreq:\n",
    "            categoryfreq[word]=0\n",
    "        categoryfreq[word]+=1\n",
    "\n",
    "sorted (categoryfreq.items(), key=lambda item: item[1])\n",
    "\n",
    "Cfreqdf = pd.DataFrame.from_dict(categoryfreq,orient='index').reset_index()\n",
    "Cfreqdf= Cfreqdf.rename(columns={'index':'category',0:'count'})\n",
    "Cfreqdf=Cfreqdf.sort_values(by=['count'],ascending=False).drop([2]).reset_index()\n",
    "del Cfreqdf['index']\n",
    "\n",
    "print('There are', len(Cfreqdf),'categories with',len(Cfreqdf[Cfreqdf['count']==1]),'used only once.')\n",
    "print('only the top few categories are useful for grouping the restaurants due to the few examples in less popular categories.\\n')\n",
    "Cfreqdf[Cfreqdf['count']==1]\n",
    "\n",
    "top10=Cfreqdf.head(10)\n",
    "\n",
    "top10.loc[5,'category']='Canadian' # don't know why 'Canadian (New)' doesn't work\n",
    "\n",
    "starmean=[]\n",
    "\n",
    "for i in top10['category']:\n",
    "    \n",
    "    k=np.mean(reviews.loc[reviews.categories.str.contains(i,case=False,na=False),\"review_stars\"])\n",
    "    starmean.append(k)\n",
    "    \n",
    "\n",
    "top10.insert(2,\"average_stars\",starmean,True)\n",
    "print(\"Top 10 most frequent Categories out of 7967 Restaurants\")\n",
    "top10"
   ]
  },
  {
   "cell_type": "markdown",
   "metadata": {},
   "source": [
    "### Exploring Reviews overtime"
   ]
  },
  {
   "cell_type": "code",
   "execution_count": 10,
   "metadata": {},
   "outputs": [
    {
     "data": {
      "image/png": "[encoded data removed]",
      "text/plain": [
       "<Figure size 432x288 with 1 Axes>"
      ]
     },
     "metadata": {
      "needs_background": "light"
     },
     "output_type": "display_data"
    },
    {
     "name": "stdout",
     "output_type": "stream",
     "text": [
      "The latest review is 2018-11-14 18:04:51 which could account for the lower than expected number of reviews in 2018\n"
     ]
    }
   ],
   "source": [
    "# counting reviews and year\n",
    "reviewyear=pd.value_counts(reviews['date'].dt.year).to_frame().reset_index()\n",
    "reviewyear.columns=['year','count']\n",
    "reviewyear=reviewyear.sort_values(by=['year'])\n",
    "# plotting in a bar graph\n",
    "plt.bar(reviewyear['year'],reviewyear['count'])\n",
    "plt.title('# of Reviews per year')\n",
    "plt.xlabel('year')\n",
    "plt.ylabel('# of reviews')\n",
    "plt.show()\n",
    "print('The latest review is 2018-11-14 18:04:51 which could account for the lower than expected number of reviews in 2018')\n"
   ]
  },
  {
   "cell_type": "markdown",
   "metadata": {},
   "source": [
    "### Average star ratings over time "
   ]
  },
  {
   "cell_type": "code",
   "execution_count": 11,
   "metadata": {},
   "outputs": [
    {
     "name": "stdout",
     "output_type": "stream",
     "text": [
      "First 5 months omitted since they had less than 3 reviews for that month\n",
      "average rating seems to increase over time at around 2012\n",
      "trendline is from using line of best fit starting at 2011-07\n",
      "trendline equation is y =0.00287 x +3.35\n",
      "where y is the average star rating and x is the number of months since 2011-07\n"
     ]
    },
    {
     "data": {
      "image/png": "[encoded data removed]",
      "text/plain": [
       "<Figure size 432x288 with 1 Axes>"
      ]
     },
     "metadata": {
      "needs_background": "light"
     },
     "output_type": "display_data"
    },
    {
     "name": "stdout",
     "output_type": "stream",
     "text": [
      "r^2 of 0.8389942112884174 for the trendline which\n"
     ]
    }
   ],
   "source": [
    "reviews['monthyear']=reviews['date'].dt.to_period('M')\n",
    "a= reviews.sort_values(['monthyear']).groupby('monthyear')['review_stars'].mean().reset_index()\n",
    "print('First 5 months omitted since they had less than 3 reviews for that month')\n",
    "plt.plot(a['review_stars'][5:],zorder=1)\n",
    "plt.xticks(list(range(5,122,12)),list(range(2009,2019)))\n",
    "plt.title(\"Average star reviews over time\")\n",
    "plt.xlabel('time')\n",
    "plt.ylabel('Average star rating in one month period')\n",
    "\n",
    "\n",
    "reviews.sort_values(['monthyear']).groupby('monthyear')['review_stars'].count().head(10)\n",
    "\n",
    "print(\"average rating seems to increase over time at around 2012\")\n",
    "print(\"trendline is from using line of best fit starting at 2011-07\")\n",
    "print(\"trendline equation is y =0.00287 x +3.35\")\n",
    "print(\"where y is the average star rating and x is the number of months since 2011-07\")\n",
    "\n",
    "x=np.array(range(40,129))\n",
    "p=np.poly1d(np.polyfit(x,np.array(a['review_stars'][40:]),1))\n",
    "plt.plot(x,p(x),\"r\",zorder=2,label='trendline')\n",
    "plt.legend()\n",
    "\n",
    "plt.show()\n",
    "r=np.corrcoef(np.array(a['review_stars'][40:]),p(x))[0,1]**2\n",
    "print(\"r^2 of\",r, 'for the trendline which')"
   ]
  },
  {
   "cell_type": "markdown",
   "metadata": {},
   "source": [
    "### Distirbution of # of Reviews per Restuarant"
   ]
  },
  {
   "cell_type": "code",
   "execution_count": 12,
   "metadata": {},
   "outputs": [
    {
     "data": {
      "image/png": "[encoded data removed]",
      "text/plain": [
       "<Figure size 432x288 with 1 Axes>"
      ]
     },
     "metadata": {
      "needs_background": "light"
     },
     "output_type": "display_data"
    },
    {
     "name": "stdout",
     "output_type": "stream",
     "text": [
      "~50% of the restaurants have less than 20 review\n",
      "~80% of the restaurants have less than 100 review\n"
     ]
    },
    {
     "data": {
      "image/png": "[encoded data removed]",
      "text/plain": [
       "<Figure size 432x288 with 1 Axes>"
      ]
     },
     "metadata": {
      "needs_background": "light"
     },
     "output_type": "display_data"
    },
    {
     "name": "stdout",
     "output_type": "stream",
     "text": [
      "~50% of the restaurants have less than 20 review\n"
     ]
    }
   ],
   "source": [
    "r=pd.value_counts(reviews['business_id']).to_frame().reset_index()\n",
    "rfreq=pd.value_counts((r['business_id'])).to_frame().reset_index().sort_values(by=['index'])\n",
    "rfreq.columns=['reviews','count']\n",
    "\n",
    "\n",
    "\n",
    "rfreq=rfreq.sort_values(by=['reviews'])\n",
    "b2=plt.plot(rfreq['reviews'][0:300],np.cumsum(rfreq['count'][0:300]/88437),color='r',label='cumulative frequency')\n",
    "plt.title('Cumlative frequency number of reviews for a restaurant')\n",
    "plt.xlabel('# of reviews')\n",
    "plt.ylabel('cumulative frequency ')\n",
    "plt.show()\n",
    "print(\"~50% of the restaurants have less than 20 review\")\n",
    "print(\"~80% of the restaurants have less than 100 review\")\n",
    "b3=plt.plot(rfreq['reviews'],(rfreq['count']),color='r',label='cumulative frequency')\n",
    "plt.title('loglog plot of number of reviews for a restaurant')\n",
    "plt.xlabel('# of reviews')\n",
    "plt.ylabel('frequency ')\n",
    "plt.yscale(\"log\")\n",
    "plt.xscale(\"log\")\n",
    "plt.show()\n",
    "print(\"~50% of the restaurants have less than 20 review\")"
   ]
  },
  {
   "cell_type": "markdown",
   "metadata": {},
   "source": [
    "### Distirbution of # of Reviews per User"
   ]
  },
  {
   "cell_type": "code",
   "execution_count": 13,
   "metadata": {},
   "outputs": [
    {
     "data": {
      "image/png": "[encoded data removed]",
      "text/plain": [
       "<Figure size 432x288 with 1 Axes>"
      ]
     },
     "metadata": {
      "needs_background": "light"
     },
     "output_type": "display_data"
    }
   ],
   "source": [
    "users=pd.value_counts(reviews['user_id']).to_frame().reset_index()\n",
    "userreviews=pd.value_counts(users['user_id']).to_frame().reset_index().sort_values(by=['index'])\n",
    "userreviews.columns=['reviews','count']\n",
    "\n",
    "\n",
    "#plotting\n",
    "\n",
    "plt.title('number of reviews per user distribution on loglog plot')\n",
    "plt.xlabel('# of reviews')\n",
    "plt.ylabel('frequency')\n",
    "b4=plt.plot(userreviews['reviews'],(userreviews['count']),color='r',label='cumulative frequency')\n",
    "\n",
    "\n",
    "\n",
    "\n",
    "plt.yscale(\"log\")\n",
    "plt.xscale(\"log\")\n",
    "\n",
    "\n",
    "\n",
    "plt.show()"
   ]
  },
  {
   "cell_type": "markdown",
   "metadata": {},
   "source": [
    "### Distribution of stars"
   ]
  },
  {
   "cell_type": "code",
   "execution_count": 14,
   "metadata": {},
   "outputs": [
    {
     "data": {
      "image/png": "[encoded data removed]",
      "text/plain": [
       "<Figure size 432x288 with 1 Axes>"
      ]
     },
     "metadata": {
      "needs_background": "light"
     },
     "output_type": "display_data"
    }
   ],
   "source": [
    "\n",
    "reviewstars=pd.value_counts(reviews['review_stars']).to_frame().reset_index().sort_values(by=['index'])\n",
    "reviewstars.columns=['stars','count']\n",
    "#plotting\n",
    "plt.bar(reviewstars['stars'],reviewstars['count'])\n",
    "plt.title('# of Reviews per star rating')\n",
    "plt.xlabel('stars')\n",
    "plt.ylabel('# of reviews')\n",
    "plt.show()\n"
   ]
  },
  {
   "cell_type": "markdown",
   "metadata": {},
   "source": [
    "### Distribution of Number of Characters in Reviews"
   ]
  },
  {
   "cell_type": "code",
   "execution_count": 16,
   "metadata": {},
   "outputs": [
    {
     "data": {
      "image/png": "[encoded data removed]",
      "text/plain": [
       "<Figure size 432x288 with 1 Axes>"
      ]
     },
     "metadata": {
      "needs_background": "light"
     },
     "output_type": "display_data"
    },
    {
     "name": "stdout",
     "output_type": "stream",
     "text": [
      "the mean number of characters per review is 2292.485234899329\n"
     ]
    }
   ],
   "source": [
    "reviewchar=pd.value_counts(reviews['text'].apply(len)).to_frame().reset_index().sort_values(by=['index'])\n",
    "reviewchar.columns=['char','count']\n",
    "plt.bar(reviewchar['char'],reviewchar['count'])\n",
    "plt.title('number of characters in a review distribution')\n",
    "plt.xlabel('number of characters ')\n",
    "plt.ylabel('# of reviews')\n",
    "plt.show()\n",
    "print('the mean number of characters per review is', np.mean(reviewchar['char']))"
   ]
  },
  {
   "cell_type": "markdown",
   "metadata": {},
   "source": [
    "# Preprocessing"
   ]
  },
  {
   "cell_type": "markdown",
   "metadata": {},
   "source": [
    "remove 3 stars, since it can contain both positve and negetive sentiment\n",
    "goal is to define positive and negetive sentimnet"
   ]
  },
  {
   "cell_type": "code",
   "execution_count": 48,
   "metadata": {},
   "outputs": [],
   "source": [
    "# import libraries\n",
    "import pandas as pd \n",
    "\n",
    "import nltk\n",
    "from nltk import word_tokenize\n",
    "from nltk.corpus import stopwords\n",
    "from nltk.stem import LancasterStemmer, WordNetLemmatizer\n",
    "\n",
    "\n",
    "from sklearn.model_selection import train_test_split\n",
    "from sklearn.utils import resample\n",
    "from sklearn.feature_extraction.text import CountVectorizer\n",
    "from sklearn.feature_extraction.text import TfidfVectorizer\n",
    "from sklearn.feature_extraction.text import TfidfTransformer\n",
    "\n",
    "import string\n",
    "import re\n"
   ]
  },
  {
   "cell_type": "code",
   "execution_count": 2,
   "metadata": {},
   "outputs": [],
   "source": [
    "# load reviews dataframe if necessary\n",
    "reviews = pd.read_pickle('C:/Users/frede/.spyder-py3/py dir/Capstone/resturantreviews') "
   ]
  },
  {
   "cell_type": "code",
   "execution_count": 3,
   "metadata": {},
   "outputs": [],
   "source": [
    "reviews=reviews[reviews['review_stars']!=3] #remove 3 stars\n",
    "reviews['review_stars']= reviews['review_stars']>3\n"
   ]
  },
  {
   "cell_type": "code",
   "execution_count": 6,
   "metadata": {},
   "outputs": [],
   "source": [
    "Lancaster=LancasterStemmer()\n",
    "stop_words=[word.translate(str.maketrans(' ', ' ', string.punctuation)) for word in stopwords.words('english')]\n",
    "def preprocess(text):\n",
    "    #returns tokenize text to words and stemming words\n",
    "    text=text.translate(str.maketrans(' ', ' ', string.punctuation))#remove all puncuation\n",
    "    text=text.lower()#lower case\n",
    "    return [Lancaster.stem(word) for word in text.split() if not word.lower() in stop_words]"
   ]
  },
  {
   "cell_type": "code",
   "execution_count": 11,
   "metadata": {},
   "outputs": [],
   "source": [
    "#apply preprocess to text\n",
    "X=reviews['text'].apply(preprocess)"
   ]
  },
  {
   "cell_type": "code",
   "execution_count": 12,
   "metadata": {},
   "outputs": [],
   "source": [
    "#split into train and test set\n",
    "y=reviews.review_stars\n",
    "xTrain, xTest, yTrain, yTest = train_test_split(X, y, test_size = 0.3, random_state = 0)"
   ]
  },
  {
   "cell_type": "code",
   "execution_count": 13,
   "metadata": {},
   "outputs": [],
   "source": [
    "# treat class imbalance"
   ]
  },
  {
   "cell_type": "code",
   "execution_count": 24,
   "metadata": {},
   "outputs": [],
   "source": [
    "Train = pd.concat([xTrain, yTrain], axis=1)\n",
    "Positive=Train[Train.review_stars==True]\n",
    "Negetive=Train[Train.review_stars==False]\n",
    "Trainresampled=resample(Negetive,replace=True,n_samples=len(Positive),random_state=0)\n",
    "Train= pd.concat([Positive, Trainresampled])\n",
    "Test = pd.concat([xTest, yTest], axis=1)\n"
   ]
  },
  {
   "cell_type": "code",
   "execution_count": 15,
   "metadata": {},
   "outputs": [],
   "source": [
    "#dummy function that does nothing, to be passed as preprocessor argument and tokenizer argument in countvectorizer\n",
    "# since text is already preprocessed and tokenized\n",
    "def dummy(input):\n",
    "    return input"
   ]
  },
  {
   "cell_type": "markdown",
   "metadata": {},
   "source": []
  },
  {
   "cell_type": "raw",
   "metadata": {},
   "source": [
    "count2=CountVectorizer(min_df=0.01,max_df=0.5, # keep words that are in at least 1% of reviews but less than %50 of the reviews\n",
    "                     preprocessor= dummy,tokenizer=dummy)\n",
    "count2.fit(Train['text'])\n",
    "print(len(count2.vocabulary_))"
   ]
  },
  {
   "cell_type": "code",
   "execution_count": 28,
   "metadata": {},
   "outputs": [],
   "source": [
    "Train2=count2.transform(Train['text'])\n",
    "Testcount2=count2.transform(Test['text'])"
   ]
  },
  {
   "cell_type": "code",
   "execution_count": 29,
   "metadata": {},
   "outputs": [
    {
     "data": {
      "text/plain": [
       "1034"
      ]
     },
     "execution_count": 29,
     "metadata": {},
     "output_type": "execute_result"
    }
   ],
   "source": [
    "# take a look at bigrams as well as unigrams\n",
    "count3=CountVectorizer(ngram_range=(1, 2), \n",
    "                      min_df=0.01,max_df=0.5,\n",
    "                     preprocessor= dummy,tokenizer=dummy\n",
    "                     )\n",
    "count3.fit(Train['text'])\n",
    "print(len(count3.vocabulary_) , 'words with unigrams and bigrams')"
   ]
  },
  {
   "cell_type": "code",
   "execution_count": 30,
   "metadata": {},
   "outputs": [],
   "source": [
    "Train3=count3.transform(Train['text'])\n",
    "Testcount3=count3.transform(Test['text'])"
   ]
  },
  {
   "cell_type": "code",
   "execution_count": 32,
   "metadata": {},
   "outputs": [
    {
     "data": {
      "text/plain": [
       "106"
      ]
     },
     "execution_count": 32,
     "metadata": {},
     "output_type": "execute_result"
    }
   ],
   "source": [
    "# using only bigrams\n",
    "count4=CountVectorizer(ngram_range=(2, 2),\n",
    "                      min_df=0.01,max_df=0.5,\n",
    "                     preprocessor= dummy,tokenizer=dummy\n",
    "                     )\n",
    "count4.fit(Train['text'])"
   ]
  },
  {
   "cell_type": "code",
   "execution_count": 33,
   "metadata": {},
   "outputs": [],
   "source": [
    "Train4=count4.transform(Train['text'])\n",
    "Testcount4=count4.transform(Test['text'])"
   ]
  },
  {
   "cell_type": "code",
   "execution_count": 36,
   "metadata": {},
   "outputs": [
    {
     "data": {
      "text/plain": [
       "928"
      ]
     },
     "execution_count": 36,
     "metadata": {},
     "output_type": "execute_result"
    }
   ],
   "source": [
    "\n",
    "Tfidfvector=TfidfVectorizer(tokenizer=dummy,preprocessor=dummy,min_df=0.01,max_df=0.5)\n",
    "Tfidfvector.fit(Train['text'])\n",
    "TrainTfidf=Tfidfvector.transform(Train['text'])\n",
    "TestTfidf=Tfidfvector.transform(Test['text'])\n",
    "len(Tfidfvector.vocabulary_)"
   ]
  },
  {
   "cell_type": "code",
   "execution_count": 55,
   "metadata": {},
   "outputs": [
    {
     "name": "stderr",
     "output_type": "stream",
     "text": [
      "C:\\Users\\frede\\Anaconda3\\lib\\site-packages\\sklearn\\feature_extraction\\text.py:507: UserWarning: The parameter 'token_pattern' will not be used since 'tokenizer' is not None'\n",
      "  warnings.warn(\"The parameter 'token_pattern' will not be used\"\n"
     ]
    },
    {
     "data": {
      "text/plain": [
       "1034"
      ]
     },
     "execution_count": 55,
     "metadata": {},
     "output_type": "execute_result"
    }
   ],
   "source": [
    "Tfidfvector2=TfidfVectorizer(ngram_range=(1, 2),tokenizer=dummy,preprocessor=dummy,min_df=0.01,max_df=0.5)\n",
    "Tfidfvector2.fit(Train['text'])\n",
    "TrainTfidf2=Tfidfvector2.transform(Train['text'])\n",
    "TestTfidf2=Tfidfvector2.transform(Test['text'])\n",
    "len(Tfidfvector2.vocabulary_)"
   ]
  },
  {
   "cell_type": "code",
   "execution_count": 56,
   "metadata": {},
   "outputs": [
    {
     "name": "stderr",
     "output_type": "stream",
     "text": [
      "C:\\Users\\frede\\Anaconda3\\lib\\site-packages\\sklearn\\feature_extraction\\text.py:507: UserWarning: The parameter 'token_pattern' will not be used since 'tokenizer' is not None'\n",
      "  warnings.warn(\"The parameter 'token_pattern' will not be used\"\n"
     ]
    },
    {
     "data": {
      "text/plain": [
       "106"
      ]
     },
     "execution_count": 56,
     "metadata": {},
     "output_type": "execute_result"
    }
   ],
   "source": [
    "Tfidfvector3=TfidfVectorizer(ngram_range=(2, 2),tokenizer=dummy,preprocessor=dummy,min_df=0.01,max_df=0.5)\n",
    "Tfidfvector3.fit(Train['text'])\n",
    "TrainTfidf3=Tfidfvector3.transform(Train['text'])\n",
    "TestTfidf3=Tfidfvector3.transform(Test['text'])\n"
   ]
  },
  {
   "cell_type": "code",
   "execution_count": 59,
   "metadata": {},
   "outputs": [],
   "source": [
    "from sklearn.linear_model import LogisticRegression\n",
    "from sklearn.metrics import accuracy_score, f1_score, precision_score, recall_score, classification_report, confusion_matrix\n",
    "\n",
    "def metriclist(model,test):\n",
    "    # returns accuracy, f1 score, precision ,recall in a list\n",
    "    return[accuracy_score(Test['review_stars'], model.predict(test)),\n",
    "           f1_score(Test['review_stars'], model.predict(test)),\n",
    "           precision_score(Test['review_stars'], model.predict(test)),\n",
    "           recall_score(Test['review_stars'], model.predict(test))]\n",
    "def LRinitNfit(Transtrain):\n",
    "    #creates LR model and fits it to training data\n",
    "    lr = LogisticRegression(solver='lbfgs', max_iter=7600)\n",
    "    lr.fit(Transtrain, Train['review_stars'])\n",
    "    return lr\n",
    "def SVMinitNfit(Transtrain):\n",
    "    #creates svm model and fits it to training data\n",
    "    SVM = svm.SVC(C=1.0, kernel='linear', degree=3, gamma='auto')\n",
    "    SVM.fit(Transtrain, Train['review_stars'])\n",
    "    return SVM\n",
    "def gethlcoef(vectorizer,model):\n",
    "    #prints 5 highest and 5 lowest coefficients in LR model\n",
    "    feature_to_coef = {\n",
    "    word: coef for word, coef in zip(\n",
    "        vectorizer.get_feature_names(), model.coef_[0]\n",
    "        )\n",
    "    }\n",
    "    print (\"words associated with highest coeffient\")\n",
    "    for best_positive in sorted(\n",
    "        feature_to_coef.items(), \n",
    "        key=lambda x: x[1], \n",
    "        reverse=True)[:5]:\n",
    "        print (best_positive)\n",
    "\n",
    "    print (\"words associated with lowest coeffient\")\n",
    "    for best_negative in sorted(\n",
    "        feature_to_coef.items(), \n",
    "        key=lambda x: x[1])[:5]:\n",
    "        print (best_negative)"
   ]
  },
  {
   "cell_type": "markdown",
   "metadata": {},
   "source": [
    "### Logistic regression classification "
   ]
  },
  {
   "cell_type": "code",
   "execution_count": 39,
   "metadata": {},
   "outputs": [],
   "source": [
    "lr2 = LRinitNfit(Train2)"
   ]
  },
  {
   "cell_type": "code",
   "execution_count": 40,
   "metadata": {},
   "outputs": [],
   "source": [
    "lr3 = LRinitNfit(Train3)"
   ]
  },
  {
   "cell_type": "code",
   "execution_count": 41,
   "metadata": {},
   "outputs": [],
   "source": [
    "lr4 = LRinitNfit(Train4)"
   ]
  },
  {
   "cell_type": "code",
   "execution_count": 57,
   "metadata": {},
   "outputs": [],
   "source": [
    "lrtf = LRinitNfit(TrainTfidf)\n",
    "lrtf2 = LRinitNfit(TrainTfidf2)\n",
    "lrtf3 = LRinitNfit(TrainTfidf3)"
   ]
  },
  {
   "cell_type": "code",
   "execution_count": 46,
   "metadata": {},
   "outputs": [
    {
     "name": "stdout",
     "output_type": "stream",
     "text": [
      "Logistic regression using count representation\n"
     ]
    },
    {
     "data": {
      "text/html": [
       "<div>\n",
       "<style scoped>\n",
       "    .dataframe tbody tr th:only-of-type {\n",
       "        vertical-align: middle;\n",
       "    }\n",
       "\n",
       "    .dataframe tbody tr th {\n",
       "        vertical-align: top;\n",
       "    }\n",
       "\n",
       "    .dataframe thead th {\n",
       "        text-align: right;\n",
       "    }\n",
       "</style>\n",
       "<table border=\"1\" class=\"dataframe\">\n",
       "  <thead>\n",
       "    <tr style=\"text-align: right;\">\n",
       "      <th></th>\n",
       "      <th>unigram</th>\n",
       "      <th>uni+bigrams</th>\n",
       "      <th>bigram</th>\n",
       "    </tr>\n",
       "  </thead>\n",
       "  <tbody>\n",
       "    <tr>\n",
       "      <th>Accuracy</th>\n",
       "      <td>0.920742</td>\n",
       "      <td>0.923396</td>\n",
       "      <td>0.614986</td>\n",
       "    </tr>\n",
       "    <tr>\n",
       "      <th>f1_score</th>\n",
       "      <td>0.946350</td>\n",
       "      <td>0.948148</td>\n",
       "      <td>0.684466</td>\n",
       "    </tr>\n",
       "    <tr>\n",
       "      <th>Precision</th>\n",
       "      <td>0.969673</td>\n",
       "      <td>0.971486</td>\n",
       "      <td>0.900416</td>\n",
       "    </tr>\n",
       "    <tr>\n",
       "      <th>Recall</th>\n",
       "      <td>0.924122</td>\n",
       "      <td>0.925905</td>\n",
       "      <td>0.552062</td>\n",
       "    </tr>\n",
       "  </tbody>\n",
       "</table>\n",
       "</div>"
      ],
      "text/plain": [
       "            unigram  uni+bigrams    bigram\n",
       "Accuracy   0.920742     0.923396  0.614986\n",
       "f1_score   0.946350     0.948148  0.684466\n",
       "Precision  0.969673     0.971486  0.900416\n",
       "Recall     0.924122     0.925905  0.552062"
      ]
     },
     "execution_count": 46,
     "metadata": {},
     "output_type": "execute_result"
    }
   ],
   "source": [
    "print('Logistic regression using count representation')\n",
    "d={'unigram':metriclist(lr2,Testcount2),\n",
    "   'uni+bigrams':metriclist(lr3,Testcount3),\n",
    "   'bigram':metriclist(lr4,Testcount4)}\n",
    "pd.DataFrame(d,index=['Accuracy','f1_score','Precision','Recall'])"
   ]
  },
  {
   "cell_type": "code",
   "execution_count": 58,
   "metadata": {},
   "outputs": [
    {
     "name": "stdout",
     "output_type": "stream",
     "text": [
      "Logistic regression using Tfidf representation\n"
     ]
    },
    {
     "data": {
      "text/html": [
       "<div>\n",
       "<style scoped>\n",
       "    .dataframe tbody tr th:only-of-type {\n",
       "        vertical-align: middle;\n",
       "    }\n",
       "\n",
       "    .dataframe tbody tr th {\n",
       "        vertical-align: top;\n",
       "    }\n",
       "\n",
       "    .dataframe thead th {\n",
       "        text-align: right;\n",
       "    }\n",
       "</style>\n",
       "<table border=\"1\" class=\"dataframe\">\n",
       "  <thead>\n",
       "    <tr style=\"text-align: right;\">\n",
       "      <th></th>\n",
       "      <th>unigram</th>\n",
       "      <th>uni+bigrams</th>\n",
       "      <th>bigram</th>\n",
       "    </tr>\n",
       "  </thead>\n",
       "  <tbody>\n",
       "    <tr>\n",
       "      <th>Accuracy</th>\n",
       "      <td>0.919706</td>\n",
       "      <td>0.922986</td>\n",
       "      <td>0.616044</td>\n",
       "    </tr>\n",
       "    <tr>\n",
       "      <th>f1_score</th>\n",
       "      <td>0.945497</td>\n",
       "      <td>0.947772</td>\n",
       "      <td>0.686082</td>\n",
       "    </tr>\n",
       "    <tr>\n",
       "      <th>Precision</th>\n",
       "      <td>0.971638</td>\n",
       "      <td>0.973029</td>\n",
       "      <td>0.899050</td>\n",
       "    </tr>\n",
       "    <tr>\n",
       "      <th>Recall</th>\n",
       "      <td>0.920726</td>\n",
       "      <td>0.923793</td>\n",
       "      <td>0.554687</td>\n",
       "    </tr>\n",
       "  </tbody>\n",
       "</table>\n",
       "</div>"
      ],
      "text/plain": [
       "            unigram  uni+bigrams    bigram\n",
       "Accuracy   0.919706     0.922986  0.616044\n",
       "f1_score   0.945497     0.947772  0.686082\n",
       "Precision  0.971638     0.973029  0.899050\n",
       "Recall     0.920726     0.923793  0.554687"
      ]
     },
     "execution_count": 58,
     "metadata": {},
     "output_type": "execute_result"
    }
   ],
   "source": [
    "print('Logistic regression using Tfidf representation')\n",
    "d={'unigram':metriclist(lrtf,TestTfidf),\n",
    "   'uni+bigrams':metriclist(lrtf2,TestTfidf2),\n",
    "   'bigram':metriclist(lrtf3,TestTfidf3)}\n",
    "pd.DataFrame(d,index=['Accuracy','f1_score','Precision','Recall'])"
   ]
  },
  {
   "cell_type": "code",
   "execution_count": 64,
   "metadata": {},
   "outputs": [
    {
     "name": "stdout",
     "output_type": "stream",
     "text": [
      "LR unigram\n",
      "words associated with highest coeffient\n",
      "('gem', 1.926456071771681)\n",
      "('fantast', 1.634872220395646)\n",
      "('delicy', 1.6309726194008043)\n",
      "('amaz', 1.5359678042886156)\n",
      "('excel', 1.5265946457012456)\n",
      "words associated with lowest coeffient\n",
      "('worst', -2.6899706810979627)\n",
      "('tasteless', -2.6826611982037503)\n",
      "('horr', -2.4756530259554275)\n",
      "('disgust', -2.435246948157792)\n",
      "('mediocr', -2.43408100102769)\n"
     ]
    }
   ],
   "source": [
    "print('LR unigram')\n",
    "gethlcoef(count2,lr2)"
   ]
  },
  {
   "cell_type": "code",
   "execution_count": 62,
   "metadata": {},
   "outputs": [
    {
     "name": "stdout",
     "output_type": "stream",
     "text": [
      "LR uni+bigram\n",
      "words associated with highest coeffient\n",
      "('high recommend', 2.0978025047163973)\n",
      "('gem', 1.9399698767918663)\n",
      "('5 star', 1.656539868306261)\n",
      "('fantast', 1.6272632985433182)\n",
      "('delicy', 1.6197421834972963)\n",
      "words associated with lowest coeffient\n",
      "('worst', -2.7179901507983693)\n",
      "('tasteless', -2.64570802959374)\n",
      "('horr', -2.4352616938574463)\n",
      "('mediocr', -2.400254780010861)\n",
      "('disgust', -2.34417380984306)\n"
     ]
    }
   ],
   "source": [
    "print('LR uni+bigram')\n",
    "gethlcoef(count3,lr3)"
   ]
  },
  {
   "cell_type": "code",
   "execution_count": 63,
   "metadata": {},
   "outputs": [
    {
     "name": "stdout",
     "output_type": "stream",
     "text": [
      "LR bigram\n",
      "words associated with highest coeffient\n",
      "('high recommend', 2.507855686787525)\n",
      "('on best', 2.1789201466124926)\n",
      "('definit com', 2.168440987517963)\n",
      "('back try', 1.9862953703713329)\n",
      "('food delicy', 1.814240281456597)\n",
      "words associated with lowest coeffient\n",
      "('noth spec', -1.6369432012896614)\n",
      "('serv slow', -1.5485131857570589)\n",
      "('tast lik', -1.279916602251189)\n",
      "('told us', -1.2293020157391874)\n",
      "('real want', -1.2020037683708373)\n"
     ]
    }
   ],
   "source": [
    "print('LR bigram')\n",
    "gethlcoef(count4,lr4)"
   ]
  },
  {
   "cell_type": "code",
   "execution_count": 68,
   "metadata": {},
   "outputs": [
    {
     "name": "stdout",
     "output_type": "stream",
     "text": [
      "words associated with highest coeffient\n",
      "('delicy', 13.327684130946205)\n",
      "('perfect', 10.646158886501041)\n",
      "('amaz', 10.62886865205201)\n",
      "('fantast', 8.703162088886065)\n",
      "('excel', 8.463302140224977)\n",
      "words associated with lowest coeffient\n",
      "('worst', -13.445926574945528)\n",
      "('bland', -12.003908608197518)\n",
      "('mediocr', -11.561518505028785)\n",
      "('horr', -10.695955599963614)\n",
      "('terr', -10.224568061133022)\n",
      "words associated with highest coeffient\n",
      "('delicy', 13.575083452540476)\n",
      "('perfect', 10.783958282315082)\n",
      "('amaz', 10.752312554785636)\n",
      "('high recommend', 9.296447206898355)\n",
      "('fantast', 8.839510656196907)\n",
      "words associated with lowest coeffient\n",
      "('worst', -13.740304957857127)\n",
      "('bland', -12.318663490931705)\n",
      "('mediocr', -11.623047526614288)\n",
      "('horr', -10.704837840514372)\n",
      "('terr', -10.390666944762781)\n",
      "words associated with highest coeffient\n",
      "('high recommend', 3.8858522708788237)\n",
      "('definit com', 3.4521800315298647)\n",
      "('on best', 3.3045968083932933)\n",
      "('back try', 3.094028350334236)\n",
      "('would definit', 2.944888005203638)\n",
      "words associated with lowest coeffient\n",
      "('noth spec', -2.5908744951665943)\n",
      "('minut lat', -2.366757393480085)\n",
      "('serv slow', -2.1842011762387807)\n",
      "('tast lik', -2.1268308201235255)\n",
      "('told us', -2.1008411428078873)\n"
     ]
    }
   ],
   "source": [
    "gethlcoef(Tfidfvector,lrtf)\n",
    "gethlcoef(Tfidfvector2,lrtf2)\n",
    "gethlcoef(Tfidfvector3,lrtf3)"
   ]
  },
  {
   "cell_type": "code",
   "execution_count": null,
   "metadata": {},
   "outputs": [],
   "source": [
    "### linear SVM"
   ]
  },
  {
   "cell_type": "code",
   "execution_count": null,
   "metadata": {},
   "outputs": [],
   "source": []
  },
  {
   "cell_type": "markdown",
   "metadata": {},
   "source": [
    "Tpic modeling using gensim"
   ]
  },
  {
   "cell_type": "code",
   "execution_count": 112,
   "metadata": {},
   "outputs": [],
   "source": [
    "import gensim\n",
    "from gensim.utils import simple_preprocess\n",
    "from gensim.parsing.preprocessing import STOPWORDS\n",
    "from nltk.stem import WordNetLemmatizer, SnowballStemmer\n",
    "from nltk.stem.porter import *\n"
   ]
  },
  {
   "cell_type": "code",
   "execution_count": 124,
   "metadata": {},
   "outputs": [],
   "source": [
    "positive=reviews[reviews['review_stars']==True]['snow']\n",
    "negetive=reviews[reviews['review_stars']==False]['snow']"
   ]
  },
  {
   "cell_type": "code",
   "execution_count": 125,
   "metadata": {},
   "outputs": [],
   "source": [
    "dictionary1=gensim.corpora.Dictionary(positive)\n",
    "dictionary0=gensim.corpora.Dictionary(negetive)"
   ]
  },
  {
   "cell_type": "code",
   "execution_count": 126,
   "metadata": {},
   "outputs": [],
   "source": [
    "# tokens that appear in more than 15 and less than 50% of doucuments \n",
    "#keeping only 100000 most frequent\n",
    "dictionary1.filter_extremes(no_below=15, no_above=0.5, keep_n=100000) \n",
    "dictionary0.filter_extremes(no_below=15, no_above=0.5, keep_n=100000) "
   ]
  },
  {
   "cell_type": "code",
   "execution_count": 127,
   "metadata": {},
   "outputs": [],
   "source": [
    "# occurances of each word for wach review\n",
    "bow_corpus1 = [dictionary1.doc2bow(doc) for doc in positive]\n",
    "bow_corpus0 = [dictionary0.doc2bow(doc) for doc in negetive]"
   ]
  },
  {
   "cell_type": "code",
   "execution_count": 116,
   "metadata": {},
   "outputs": [],
   "source": [
    "from gensim import corpora, models"
   ]
  },
  {
   "cell_type": "code",
   "execution_count": null,
   "metadata": {},
   "outputs": [],
   "source": []
  },
  {
   "cell_type": "code",
   "execution_count": 130,
   "metadata": {},
   "outputs": [],
   "source": [
    "#tfidif model\n",
    "tfidf1 = models.TfidfModel(bow_corpus1)\n",
    "corpus_tfidf1 = tfidf[bow_corpus1]\n",
    "tfidf0 = models.TfidfModel(bow_corpus0)\n",
    "corpus_tfidf0 = tfidf[bow_corpus0]"
   ]
  },
  {
   "cell_type": "code",
   "execution_count": 131,
   "metadata": {},
   "outputs": [],
   "source": [
    "lda_model1 = gensim.models.LdaMulticore(bow_corpus1, num_topics=10, id2word=dictionary, passes=2, workers=2)"
   ]
  },
  {
   "cell_type": "code",
   "execution_count": 132,
   "metadata": {},
   "outputs": [
    {
     "name": "stdout",
     "output_type": "stream",
     "text": [
      "Topic: 0 \n",
      "Words: 0.013*\"buttermilk\" + 0.012*\"everyth\" + 0.012*\"still\" + 0.011*\"friend\" + 0.010*\"soup\" + 0.010*\"happi\" + 0.008*\"choic\" + 0.008*\"place\" + 0.007*\"veggi\" + 0.007*\"menu\"\n",
      "Topic: 1 \n",
      "Words: 0.021*\"select\" + 0.017*\"place\" + 0.013*\"pita\" + 0.012*\"friend\" + 0.011*\"ive\" + 0.011*\"textur\" + 0.010*\"bleu\" + 0.009*\"singl\" + 0.009*\"repeat\" + 0.008*\"set\"\n",
      "Topic: 2 \n",
      "Words: 0.022*\"entir\" + 0.014*\"cant\" + 0.014*\"happi\" + 0.013*\"share\" + 0.012*\"ive\" + 0.011*\"pace\" + 0.011*\"meet\" + 0.009*\"sea\" + 0.009*\"counter\" + 0.009*\"decent\"\n",
      "Topic: 3 \n",
      "Words: 0.024*\"type\" + 0.018*\"buttermilk\" + 0.016*\"doughi\" + 0.016*\"paneer\" + 0.014*\"counter\" + 0.013*\"friend\" + 0.013*\"ive\" + 0.012*\"happi\" + 0.012*\"valentin\" + 0.011*\"experi\"\n",
      "Topic: 4 \n",
      "Words: 0.031*\"night\" + 0.019*\"didnt\" + 0.016*\"date\" + 0.014*\"want\" + 0.011*\"school\" + 0.011*\"ive\" + 0.010*\"right\" + 0.009*\"turn\" + 0.009*\"dissappoint\" + 0.009*\"happi\"\n",
      "Topic: 5 \n",
      "Words: 0.040*\"friend\" + 0.037*\"place\" + 0.033*\"ive\" + 0.025*\"cevich\" + 0.023*\"select\" + 0.023*\"soup\" + 0.018*\"pita\" + 0.014*\"entir\" + 0.013*\"good\" + 0.013*\"share\"\n",
      "Topic: 6 \n",
      "Words: 0.014*\"select\" + 0.012*\"expens\" + 0.012*\"sea\" + 0.011*\"juici\" + 0.011*\"repeat\" + 0.011*\"hangout\" + 0.010*\"space\" + 0.010*\"smoki\" + 0.010*\"nice\" + 0.008*\"order\"\n",
      "Topic: 7 \n",
      "Words: 0.024*\"friend\" + 0.023*\"select\" + 0.018*\"ive\" + 0.016*\"tastey\" + 0.015*\"spici\" + 0.014*\"everyth\" + 0.013*\"soup\" + 0.010*\"happi\" + 0.010*\"place\" + 0.010*\"could\"\n",
      "Topic: 8 \n",
      "Words: 0.012*\"money\" + 0.011*\"sea\" + 0.011*\"line\" + 0.010*\"miso\" + 0.010*\"rodizio\" + 0.009*\"rather\" + 0.009*\"grain\" + 0.008*\"year\" + 0.008*\"jerusalem\" + 0.007*\"also\"\n",
      "Topic: 9 \n",
      "Words: 0.023*\"select\" + 0.023*\"friend\" + 0.021*\"smile\" + 0.019*\"thrown\" + 0.019*\"known\" + 0.017*\"place\" + 0.017*\"seafood\" + 0.014*\"appreci\" + 0.013*\"most\" + 0.013*\"year\"\n"
     ]
    }
   ],
   "source": [
    "for idx, topic in lda_model1.print_topics(-1):\n",
    "    print('Topic: {} \\nWords: {}'.format(idx, topic))"
   ]
  },
  {
   "cell_type": "code",
   "execution_count": 133,
   "metadata": {},
   "outputs": [
    {
     "name": "stdout",
     "output_type": "stream",
     "text": [
      "Topic: 0 Word: 0.029*\"bigoli\" + 0.020*\"calzon\" + 0.012*\"meet\" + 0.011*\"solid\" + 0.010*\"rage\" + 0.008*\"select\" + 0.008*\"center\" + 0.007*\"mai\" + 0.007*\"share\" + 0.006*\"hangout\"\n",
      "Topic: 1 Word: 0.012*\"entir\" + 0.011*\"select\" + 0.008*\"hangout\" + 0.008*\"thrown\" + 0.008*\"sea\" + 0.008*\"repeat\" + 0.007*\"happi\" + 0.007*\"czech\" + 0.007*\"juici\" + 0.007*\"smoki\"\n",
      "Topic: 2 Word: 0.016*\"pita\" + 0.013*\"soup\" + 0.013*\"select\" + 0.012*\"nunu\" + 0.011*\"repeat\" + 0.011*\"appreci\" + 0.011*\"friend\" + 0.010*\"mud\" + 0.010*\"most\" + 0.010*\"thrown\"\n",
      "Topic: 3 Word: 0.013*\"cevich\" + 0.009*\"hangout\" + 0.009*\"sea\" + 0.008*\"select\" + 0.007*\"repeat\" + 0.006*\"share\" + 0.006*\"juici\" + 0.006*\"thrown\" + 0.005*\"date\" + 0.005*\"expens\"\n",
      "Topic: 4 Word: 0.010*\"buttermilk\" + 0.007*\"moon\" + 0.007*\"bream\" + 0.007*\"most\" + 0.007*\"sea\" + 0.006*\"hangout\" + 0.006*\"happi\" + 0.006*\"ink\" + 0.005*\"pita\" + 0.005*\"ate\"\n",
      "Topic: 5 Word: 0.012*\"select\" + 0.012*\"bleu\" + 0.011*\"pita\" + 0.008*\"smile\" + 0.008*\"repeat\" + 0.008*\"hangout\" + 0.007*\"textur\" + 0.007*\"juici\" + 0.007*\"ive\" + 0.007*\"sea\"\n",
      "Topic: 6 Word: 0.008*\"select\" + 0.008*\"sea\" + 0.008*\"bleu\" + 0.007*\"hangout\" + 0.007*\"pita\" + 0.007*\"tax\" + 0.006*\"repeat\" + 0.005*\"classico\" + 0.005*\"artichok\" + 0.005*\"friend\"\n",
      "Topic: 7 Word: 0.030*\"tastey\" + 0.011*\"select\" + 0.008*\"hangout\" + 0.008*\"repeat\" + 0.008*\"sea\" + 0.007*\"pace\" + 0.007*\"pita\" + 0.007*\"happi\" + 0.007*\"casual\" + 0.006*\"buttermilk\"\n",
      "Topic: 8 Word: 0.013*\"adventur\" + 0.011*\"dissappoint\" + 0.010*\"select\" + 0.009*\"pita\" + 0.008*\"hangout\" + 0.008*\"sea\" + 0.008*\"school\" + 0.007*\"repeat\" + 0.006*\"seafood\" + 0.006*\"most\"\n",
      "Topic: 9 Word: 0.014*\"doughi\" + 0.013*\"buttermilk\" + 0.011*\"select\" + 0.011*\"entir\" + 0.010*\"valentin\" + 0.009*\"type\" + 0.009*\"paneer\" + 0.009*\"hangout\" + 0.008*\"sea\" + 0.008*\"thrown\"\n"
     ]
    }
   ],
   "source": [
    "lda_model_tfidf1 = gensim.models.LdaMulticore(corpus_tfidf1, num_topics=10, id2word=dictionary, passes=2, workers=4)\n",
    "for idx, topic in lda_model_tfidf1.print_topics(-1):\n",
    "    print('Topic: {} Word: {}'.format(idx, topic))"
   ]
  },
  {
   "cell_type": "code",
   "execution_count": 134,
   "metadata": {
    "scrolled": false
   },
   "outputs": [
    {
     "name": "stdout",
     "output_type": "stream",
     "text": [
      "Topic: 0 \n",
      "Words: 0.022*\"vege\" + 0.021*\"return\" + 0.017*\"classico\" + 0.011*\"wasnt\" + 0.010*\"salti\" + 0.010*\"perfect\" + 0.009*\"complement\" + 0.009*\"omelett\" + 0.009*\"school\" + 0.009*\"jam\"\n",
      "Topic: 1 \n",
      "Words: 0.013*\"your\" + 0.012*\"vege\" + 0.012*\"follow\" + 0.011*\"seat\" + 0.010*\"peopl\" + 0.010*\"hope\" + 0.010*\"persian\" + 0.010*\"overs\" + 0.010*\"scarborough\" + 0.009*\"market\"\n",
      "Topic: 2 \n",
      "Words: 0.022*\"squash\" + 0.017*\"follow\" + 0.013*\"want\" + 0.010*\"healthi\" + 0.009*\"pork\" + 0.008*\"glass\" + 0.008*\"salad\" + 0.008*\"bowl\" + 0.007*\"vegetarian\" + 0.007*\"deni\"\n",
      "Topic: 3 \n",
      "Words: 0.015*\"market\" + 0.010*\"follow\" + 0.009*\"vege\" + 0.009*\"hous\" + 0.009*\"your\" + 0.009*\"omelett\" + 0.008*\"most\" + 0.008*\"seat\" + 0.007*\"want\" + 0.007*\"super\"\n",
      "Topic: 4 \n",
      "Words: 0.014*\"want\" + 0.011*\"dealt\" + 0.011*\"complement\" + 0.008*\"market\" + 0.007*\"follow\" + 0.007*\"omelett\" + 0.007*\"vegetarian\" + 0.007*\"salad\" + 0.006*\"attent\" + 0.006*\"bream\"\n",
      "Topic: 5 \n",
      "Words: 0.027*\"away\" + 0.022*\"wasnt\" + 0.017*\"perfect\" + 0.016*\"complement\" + 0.014*\"want\" + 0.012*\"salad\" + 0.011*\"glass\" + 0.011*\"tartar\" + 0.010*\"stop\" + 0.009*\"except\"\n",
      "Topic: 6 \n",
      "Words: 0.028*\"drown\" + 0.016*\"want\" + 0.014*\"vege\" + 0.013*\"middl\" + 0.013*\"request\" + 0.011*\"crowd\" + 0.010*\"call\" + 0.009*\"follow\" + 0.008*\"green\" + 0.008*\"perfect\"\n",
      "Topic: 7 \n",
      "Words: 0.022*\"want\" + 0.015*\"prejudic\" + 0.011*\"market\" + 0.010*\"present\" + 0.009*\"glass\" + 0.008*\"follow\" + 0.008*\"omelett\" + 0.008*\"wasnt\" + 0.008*\"departur\" + 0.007*\"care\"\n",
      "Topic: 8 \n",
      "Words: 0.026*\"hope\" + 0.023*\"vege\" + 0.015*\"perfect\" + 0.011*\"glass\" + 0.011*\"want\" + 0.010*\"broccoli\" + 0.009*\"rice\" + 0.008*\"bream\" + 0.007*\"take\" + 0.007*\"vegetarian\"\n",
      "Topic: 9 \n",
      "Words: 0.017*\"kingyo\" + 0.012*\"vege\" + 0.011*\"money\" + 0.010*\"follow\" + 0.010*\"eat\" + 0.009*\"rest\" + 0.008*\"classico\" + 0.007*\"deep\" + 0.007*\"complement\" + 0.007*\"go\"\n"
     ]
    }
   ],
   "source": [
    "lda_model0 = gensim.models.LdaMulticore(bow_corpus0, num_topics=10, id2word=dictionary, passes=2, workers=2)\n",
    "for idx, topic in lda_model0.print_topics(-1):\n",
    "    print('Topic: {} \\nWords: {}'.format(idx, topic))"
   ]
  },
  {
   "cell_type": "code",
   "execution_count": 135,
   "metadata": {},
   "outputs": [
    {
     "name": "stdout",
     "output_type": "stream",
     "text": [
      "Topic: 0 Word: 0.009*\"rees\" + 0.008*\"departur\" + 0.008*\"vege\" + 0.008*\"bream\" + 0.007*\"glass\" + 0.007*\"market\" + 0.006*\"wasnt\" + 0.006*\"want\" + 0.006*\"follow\" + 0.006*\"penn\"\n",
      "Topic: 1 Word: 0.014*\"parantha\" + 0.011*\"market\" + 0.011*\"departur\" + 0.010*\"omelett\" + 0.009*\"bream\" + 0.008*\"want\" + 0.008*\"glass\" + 0.008*\"follow\" + 0.007*\"middl\" + 0.007*\"vege\"\n",
      "Topic: 2 Word: 0.009*\"vege\" + 0.006*\"market\" + 0.006*\"departur\" + 0.006*\"follow\" + 0.006*\"bream\" + 0.004*\"omelett\" + 0.004*\"czech\" + 0.004*\"expand\" + 0.003*\"school\" + 0.003*\"hypocrit\"\n",
      "Topic: 3 Word: 0.028*\"vege\" + 0.011*\"mccaul\" + 0.008*\"departur\" + 0.008*\"bream\" + 0.007*\"market\" + 0.007*\"complexion\" + 0.006*\"broccoli\" + 0.006*\"follow\" + 0.006*\"classico\" + 0.006*\"hope\"\n",
      "Topic: 4 Word: 0.018*\"vege\" + 0.010*\"follow\" + 0.010*\"market\" + 0.009*\"squash\" + 0.009*\"healthi\" + 0.008*\"persian\" + 0.007*\"hope\" + 0.007*\"overs\" + 0.007*\"departur\" + 0.007*\"bream\"\n",
      "Topic: 5 Word: 0.041*\"prejudic\" + 0.019*\"vege\" + 0.008*\"follow\" + 0.008*\"market\" + 0.007*\"persian\" + 0.007*\"departur\" + 0.007*\"djeuner\" + 0.007*\"bream\" + 0.007*\"deni\" + 0.006*\"expand\"\n",
      "Topic: 6 Word: 0.025*\"vege\" + 0.021*\"drown\" + 0.011*\"overs\" + 0.009*\"departur\" + 0.008*\"request\" + 0.008*\"omelett\" + 0.008*\"bream\" + 0.008*\"follow\" + 0.007*\"market\" + 0.007*\"volunt\"\n",
      "Topic: 7 Word: 0.021*\"vege\" + 0.015*\"classico\" + 0.010*\"bream\" + 0.010*\"complement\" + 0.009*\"omelett\" + 0.008*\"departur\" + 0.007*\"school\" + 0.007*\"hustl\" + 0.006*\"return\" + 0.006*\"eastern\"\n",
      "Topic: 8 Word: 0.012*\"vege\" + 0.012*\"kingyo\" + 0.010*\"market\" + 0.009*\"follow\" + 0.008*\"toffe\" + 0.007*\"departur\" + 0.007*\"bream\" + 0.006*\"omelett\" + 0.006*\"school\" + 0.005*\"middl\"\n",
      "Topic: 9 Word: 0.012*\"vege\" + 0.010*\"departur\" + 0.008*\"market\" + 0.008*\"bream\" + 0.008*\"follow\" + 0.007*\"hustl\" + 0.007*\"escal\" + 0.006*\"glass\" + 0.005*\"want\" + 0.005*\"shake\"\n"
     ]
    }
   ],
   "source": [
    "lda_model_tfidf0 = gensim.models.LdaMulticore(corpus_tfidf0, num_topics=10, id2word=dictionary, passes=2, workers=4)\n",
    "for idx, topic in lda_model_tfidf0.print_topics(-1):\n",
    "    print('Topic: {} Word: {}'.format(idx, topic))"
   ]
  },
  {
   "cell_type": "code",
   "execution_count": 141,
   "metadata": {},
   "outputs": [
    {
     "ename": "SyntaxError",
     "evalue": "invalid syntax (<ipython-input-141-47e7308e9c7c>, line 1)",
     "output_type": "error",
     "traceback": [
      "\u001b[1;36m  File \u001b[1;32m\"<ipython-input-141-47e7308e9c7c>\"\u001b[1;36m, line \u001b[1;32m1\u001b[0m\n\u001b[1;33m    dictionary1[,2]\u001b[0m\n\u001b[1;37m                ^\u001b[0m\n\u001b[1;31mSyntaxError\u001b[0m\u001b[1;31m:\u001b[0m invalid syntax\n"
     ]
    }
   ],
   "source": []
  },
  {
   "cell_type": "code",
   "execution_count": null,
   "metadata": {},
   "outputs": [],
   "source": []
  }
 ],
 "metadata": {
  "kernelspec": {
   "display_name": "Python 3",
   "language": "python",
   "name": "python3"
  },
  "language_info": {
   "codemirror_mode": {
    "name": "ipython",
    "version": 3
   },
   "file_extension": ".py",
   "mimetype": "text/x-python",
   "name": "python",
   "nbconvert_exporter": "python",
   "pygments_lexer": "ipython3",
   "version": "3.7.3"
  }
 },
 "nbformat": 4,
 "nbformat_minor": 4
}
